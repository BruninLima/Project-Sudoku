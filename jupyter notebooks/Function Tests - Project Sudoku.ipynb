{
 "cells": [
  {
   "cell_type": "markdown",
   "metadata": {},
   "source": [
    "### Alguns testes para as funçoes"
   ]
  },
  {
   "cell_type": "code",
   "execution_count": 1,
   "metadata": {
    "collapsed": true
   },
   "outputs": [],
   "source": [
    "### Solver Functions ###\n",
    "# Bruno Ramos Lima Netto\n",
    "\n",
    "def num_moves(sudoku):\n",
    "    'returns the maximum number of moves to do on the current sudoku / Counting the zeroes(empty squares)'\n",
    "    moves = 0\n",
    "    for line in sudoku:\n",
    "        moves += list(line).count(0)\n",
    "    return moves"
   ]
  },
  {
   "cell_type": "code",
   "execution_count": 2,
   "metadata": {
    "collapsed": true
   },
   "outputs": [],
   "source": [
    "null_sudoku  = [[0,0,0,0,0,0,0,0,0],\n",
    "                [0,0,0,0,0,0,0,0,0],\n",
    "                [0,0,0,0,0,0,0,0,0],\n",
    "                [0,0,0,0,0,0,0,0,0],\n",
    "                [0,0,0,0,0,0,0,0,0],\n",
    "                [0,0,0,0,0,0,0,0,0],\n",
    "                [0,0,0,0,0,0,0,0,0],\n",
    "                [0,0,0,0,0,0,0,0,0],\n",
    "                [0,0,0,0,0,0,0,0,0]]\n",
    "\n",
    "null_sol =     [[1,2,3,4,5,6,7,8,9],\n",
    "                [4,5,6,7,8,9,1,2,3],\n",
    "                [7,8,9,1,2,3,4,5,6],\n",
    "                [2,3,1,6,7,4,8,9,5],\n",
    "                [8,7,5,9,1,2,3,6,4],\n",
    "                [6,9,4,5,3,8,2,1,7],\n",
    "                [3,1,7,2,6,5,9,4,8],\n",
    "                [5,4,2,8,9,7,6,3,1],\n",
    "                [9,6,8,3,4,1,5,7,2]]"
   ]
  },
  {
   "cell_type": "code",
   "execution_count": 3,
   "metadata": {
    "collapsed": true
   },
   "outputs": [],
   "source": [
    "assert(num_moves(null_sudoku) == 81)\n",
    "assert(num_moves(null_sol)    == 0)"
   ]
  },
  {
   "cell_type": "code",
   "execution_count": 4,
   "metadata": {
    "collapsed": true
   },
   "outputs": [],
   "source": [
    "def all_moves():\n",
    "    'generates a list with all the possible moves of every square of the board' \n",
    "\n",
    "    ans = [[1,2,3,4,5,6,7,8,9] for _ in range(81)]\n",
    "    return ans\n",
    "\n",
    "def available_moves(sudoku):\n",
    "    'returns the available guess_list of every square'\n",
    "\n",
    "    guess_list = all_moves()\n",
    " \n",
    "    for i in range(9):\n",
    "        for j in range(9):\n",
    "            if (not (sudoku[i][j])) == False:\n",
    "                numago = sudoku[i][j]\n",
    "                guess_list[(9*i + j)] = []\n",
    "                \n",
    "                for k in range(9):\n",
    "                    if numago in guess_list[9*i +k]:\n",
    "                        guess_list[(9*i + k)].remove(numago)  #remove da linha\n",
    "                    if numago in guess_list[(9*k + j)]:\n",
    "                        guess_list[(9*k + j)].remove(numago)  #remove da coluna\n",
    "                        \n",
    "                a,b = (i//3)*3,(j//3)*3\n",
    "                \n",
    "                for m in range(a,a+3):\n",
    "                    for n in range(b,b+3):\n",
    "                        if numago in guess_list[9*m+n]:\n",
    "                            guess_list[(9*m+n)].remove(numago)\n",
    "    return guess_list"
   ]
  },
  {
   "cell_type": "code",
   "execution_count": 5,
   "metadata": {},
   "outputs": [
    {
     "name": "stdout",
     "output_type": "stream",
     "text": [
      "100000 loops, best of 3: 18.9 µs per loop\n"
     ]
    }
   ],
   "source": [
    "%timeit all_moves()"
   ]
  },
  {
   "cell_type": "code",
   "execution_count": 6,
   "metadata": {},
   "outputs": [],
   "source": [
    "assert(len(all_moves()) == 81)\n",
    "assert(len(sum(available_moves(null_sol),[])) == 0)"
   ]
  },
  {
   "cell_type": "code",
   "execution_count": 7,
   "metadata": {
    "collapsed": true
   },
   "outputs": [],
   "source": [
    "def next_move(guess_list):\n",
    "    'returns a list with the next moves, and its indexes (q,r)'\n",
    "    \n",
    "    if sum(map(sum,guess_list)) == 0: # no more available guesses >.<\n",
    "        return [],None,None\n",
    "    minmoves = 10\n",
    "    idxmin = None\n",
    "    for (i,move) in enumerate(guess_list):\n",
    "        l = len(move)\n",
    "        if 0 < l and l < minmoves:\n",
    "            idxmin = i\n",
    "            minmoves = l\n",
    "            if l == 1:\n",
    "                break\n",
    "    q,r = divmod(idxmin,9)\n",
    "    return guess_list[idxmin],q,r\n",
    "\n",
    "\n",
    "def next_branch(branch,move,q,r):\n",
    "\n",
    "    'returns the next branch to try (left to right)'\n",
    "    if move == 0:\n",
    "        #print(move,q,r,'wut')\n",
    "        return -1 # error code\n",
    "    j = branch.count([q,r])\n",
    "    if j >= len(move):\n",
    "        return 0\n",
    "    return [move[j]]  # starts from the *left* of the list\n",
    "\n",
    "def refresh_guess_list(move,q,r,guess_list):\n",
    "    'given a move on the [q][r] square, refreshes the guess_list'\n",
    "    new_guess_list        = guess_list\n",
    "    new_guess_list[9*q+r] = []\n",
    "    k = 9*q\n",
    "    l = 9*(q//3)*3 + (r//3)*3\n",
    "    mmm = move[0]\n",
    "    for i in range(9):\n",
    "        if mmm in new_guess_list[r+9*i]:\n",
    "            new_guess_list[r+9*i].remove(mmm)  # remove da coluna\n",
    "        if mmm in new_guess_list[k+i]:\n",
    "            new_guess_list[k+i].remove(mmm)   # remove da linha\n",
    "\n",
    "    for m in range(3):\n",
    "        for n in range(3):\n",
    "            if mmm in new_guess_list[l + m+9*n ]:\n",
    "                new_guess_list[l + m+9*n ].remove(mmm)\n",
    "\n",
    "    return new_guess_list\n",
    "\n",
    "def copy_GL(guess_list):\n",
    "    return [l[:] for l in guess_list]\n",
    "\n",
    "def check_line(n,guess_list):\n",
    "    'returns the n_th line in the guess_list (n from 0 to 8)'\n",
    "    nth_line = guess_list[n*9:9*(n+1)]\n",
    "    idxs = range(9*n,9*(n+1))\n",
    "    return nth_line,idxs\n",
    "\n",
    "def check_col(n,guess_list):\n",
    "    'returns the n_th column in the guess_list (n from 0 to 8)'\n",
    "    col_idxs = [(l*9)+n for l in range(9)]\n",
    "    nth_column  = [guess_list[i] for i in col_idxs]\n",
    "    \n",
    "    return nth_column,col_idxs\n",
    "\n",
    "def check_box(n,guess_list):\n",
    "    'returns the n_th box in the guess_list (n from 0 to 8)'\n",
    "    #code gore  basically math to get the right indexes from the boxes\n",
    "    if n < 3:\n",
    "        nth_box = guess_list[n*3:(n+1)*3] + guess_list[n*3 + 9:(n+1)*3 + 9] + guess_list[n*3 + 18:(n+1)*3 + 18]\n",
    "        idxs = [n*3,3*n+1,3*n+2,n*3 + 9,n*3 + 10,n*3 + 11,n*3 + 18,n*3 + 19,n*3 + 20]\n",
    "    elif n < 6:\n",
    "        nth_box = guess_list[27+(n%3)*3:27+(n%3+1)*3] + guess_list[36+(n%3)*3:36+(n%3+1)*3] + guess_list[45+(n%3)*3:45+(n%3+1)*3]\n",
    "        idxs = [27+(n%3)*3,28+(n%3)*3,29+(n%3)*3,36+(n%3)*3,37+(n%3)*3,38+(n%3)*3,45+(n%3)*3,46+(n%3)*3,47+(n%3)*3]\n",
    "    elif n >= 6:\n",
    "        nth_box = guess_list[54+(n%3)*3:54+(n%3+1)*3] + guess_list[63+(n%3)*3:63+(n%3+1)*3] + guess_list[72+(n%3)*3:72+(n%3+1)*3]\n",
    "        idxs = [54+(n%3)*3,55+(n%3)*3,56+(n%3)*3,63+(n%3)*3,64+(n%3)*3,65+(n%3)*3,72+(n%3)*3,73+(n%3)*3,74+(n%3)*3]\n",
    "    return nth_box,idxs\n",
    "\n",
    "def check_singles(guess_list):\n",
    "    singles = []\n",
    "    for i in range(9):\n",
    "        i_box,box_idxs = check_box(i,guess_list)\n",
    "        i_line,line_idxs = check_line(i,guess_list)\n",
    "        i_col,col_idxs = check_col(i,guess_list)\n",
    "        for j in range(1,10):\n",
    "            if sum(i_box,[]).count(j) == 1:\n",
    "                for a,square in enumerate(i_box):\n",
    "                    if j in square:\n",
    "                        if [[j,box_idxs[a]]] not in singles:\n",
    "                            singles += [[j,box_idxs[a]]]\n",
    "            if sum(i_line,[]).count(j) == 1:\n",
    "                for a,square in enumerate(i_line):\n",
    "                    if j in square:\n",
    "                        if [[j,line_idxs[a]]] not in singles:\n",
    "                            singles += [[j,line_idxs[a]]]\n",
    "\n",
    "            if sum(i_col,[]).count(j) == 1:\n",
    "                for a,square in enumerate(i_col):\n",
    "                    if j in square:\n",
    "                        if [[j,col_idxs[a]]] not in singles:\n",
    "                            singles += [[j,col_idxs[a]]]\n",
    "    return singles"
   ]
  },
  {
   "cell_type": "code",
   "execution_count": 8,
   "metadata": {},
   "outputs": [],
   "source": [
    "### Solver ###\n",
    "# Bruno Ramos Lima Netto\n",
    "\n",
    "import numpy as np\n",
    "#from solver_funcs import *\n",
    "\n",
    "def sudoku_starter(board):\n",
    "    'adapting to the guess_list variable'\n",
    "    backups         = [] #sudokus backup\n",
    "    branch          = [] # branch of the guessing tree \n",
    "    sudoku_board    = np.empty((9,9), dtype = int) # empty sudoku 9x9 board \n",
    "    sudoku_board[:] = board[:]  #here we copy the board list\n",
    "    moves           = num_moves(sudoku_board)  # counts the number of zeroes\n",
    "    guess_list      = available_moves(sudoku_board) #list with all the possible moves\n",
    "    singles         = check_singles(guess_list)\n",
    "    for single in singles:\n",
    "        q,r = divmod(single[1],9)\n",
    "        if sudoku_board[q][r] == 0:\n",
    "            move               = [single[0]]\n",
    "            sudoku_board[q][r] = move[0]\n",
    "            moves             -= 1\n",
    "            guess_list         = refresh_guess_list(move,q,r,guess_list)\n",
    "    move,q,r        = next_move(guess_list) # next right move\n",
    "    while moves: # while there are moves to be made we make'em\n",
    "        l = len(move)\n",
    "        if l > 1:\n",
    "            return sudoku_solver(sudoku_board,moves,guess_list,branch,backups)\n",
    "        if l == 1:\n",
    "            sudoku_board[q][r] =  move[0]\n",
    "            moves             -=  1\n",
    "            guess_list         =  refresh_guess_list(move,q,r,guess_list)\n",
    "            move,q,r           =  next_move(guess_list)\n",
    "    return sudoku_board\n",
    "\n",
    "def sudoku_solver(sudoku_board,moves,guess_list,branch,backups):\n",
    "    'solves the sudoku by trying to guess from the list with least possible guesses'\n",
    "    while moves > 0:\n",
    "        move,q,r          = next_move(guess_list)\n",
    "        if not move:\n",
    "            backups       = backups[:-1]\n",
    "            branch        = branch[:-1]\n",
    "            sudoku_board  = backups[-1][0]\n",
    "            guess_list    = backups[-1][1]\n",
    "            moves         = num_moves(sudoku_board)\n",
    "        elif move == 1:\n",
    "            sudoku_board[q][r] = move[0]\n",
    "            guess_list         = refresh_guess_list(move,q,r,guess_list)\n",
    "            moves             -= 1\n",
    "        else:\n",
    "            guess            = next_branch(branch,move,q,r)\n",
    "            if not guess:\n",
    "                k = (branch.index([q,r]))\n",
    "                sudoku_board = backups[k-1][0]\n",
    "                guess_list   = backups[k-1][1]\n",
    "                backups      = backups[:k]\n",
    "                branch       = branch[:k]\n",
    "                moves        = num_moves(sudoku_board)\n",
    "            else:\n",
    "                backups.append([sudoku_board.copy(),copy_GL(guess_list)])\n",
    "                sudoku_board[q][r] = guess[0]\n",
    "                moves             -= 1\n",
    "                branch            += [[q,r]]\n",
    "                guess_list         = refresh_guess_list(guess,q,r,guess_list)\n",
    "    return sudoku_board"
   ]
  },
  {
   "cell_type": "code",
   "execution_count": 9,
   "metadata": {},
   "outputs": [
    {
     "data": {
      "text/plain": [
       "array([[1, 2, 3, 4, 5, 6, 7, 8, 9],\n",
       "       [4, 5, 6, 7, 8, 9, 1, 2, 3],\n",
       "       [7, 8, 9, 1, 2, 3, 4, 5, 6],\n",
       "       [2, 3, 1, 6, 7, 4, 8, 9, 5],\n",
       "       [8, 7, 5, 9, 1, 2, 3, 6, 4],\n",
       "       [6, 9, 4, 5, 3, 8, 2, 1, 7],\n",
       "       [3, 1, 7, 2, 6, 5, 9, 4, 8],\n",
       "       [5, 4, 2, 8, 9, 7, 6, 3, 1],\n",
       "       [9, 6, 8, 3, 4, 1, 5, 7, 2]])"
      ]
     },
     "execution_count": 9,
     "metadata": {},
     "output_type": "execute_result"
    }
   ],
   "source": [
    "sudoku_starter(null_sudoku)"
   ]
  },
  {
   "cell_type": "code",
   "execution_count": 10,
   "metadata": {},
   "outputs": [
    {
     "name": "stdout",
     "output_type": "stream",
     "text": [
      "         7764 function calls in 0.023 seconds\n",
      "\n",
      "   Ordered by: internal time\n",
      "\n",
      "   ncalls  tottime  percall  cumtime  percall filename:lineno(function)\n",
      "       81    0.017    0.000    0.017    0.000 <ipython-input-7-2d3697bbe560>:51(<listcomp>)\n",
      "      325    0.001    0.000    0.001    0.000 {built-in method builtins.sum}\n",
      "       82    0.001    0.000    0.003    0.000 <ipython-input-7-2d3697bbe560>:1(next_move)\n",
      "       81    0.001    0.000    0.001    0.000 <ipython-input-7-2d3697bbe560>:30(refresh_guess_list)\n",
      "      333    0.001    0.000    0.001    0.000 {method 'count' of 'list' objects}\n",
      "        1    0.000    0.000    0.022    0.022 <ipython-input-8-bd12c0f97d08>:35(sudoku_solver)\n",
      "       81    0.000    0.000    0.000    0.000 {method 'copy' of 'numpy.ndarray' objects}\n",
      "        1    0.000    0.000    0.023    0.023 <string>:1(<module>)\n",
      "     5856    0.000    0.000    0.000    0.000 {built-in method builtins.len}\n",
      "        1    0.000    0.000    0.001    0.001 <ipython-input-7-2d3697bbe560>:80(check_singles)\n",
      "      544    0.000    0.000    0.000    0.000 {method 'remove' of 'list' objects}\n",
      "       81    0.000    0.000    0.000    0.000 <ipython-input-7-2d3697bbe560>:19(next_branch)\n",
      "       81    0.000    0.000    0.017    0.000 <ipython-input-7-2d3697bbe560>:50(copy_GL)\n",
      "        1    0.000    0.000    0.000    0.000 <ipython-input-4-b1abdc2d4774>:7(available_moves)\n",
      "        1    0.000    0.000    0.000    0.000 <ipython-input-1-3073e6522be4>:4(num_moves)\n",
      "        9    0.000    0.000    0.000    0.000 <ipython-input-7-2d3697bbe560>:66(check_box)\n",
      "        1    0.000    0.000    0.023    0.023 <ipython-input-8-bd12c0f97d08>:7(sudoku_starter)\n",
      "        1    0.000    0.000    0.023    0.023 {built-in method builtins.exec}\n",
      "       82    0.000    0.000    0.000    0.000 {built-in method builtins.divmod}\n",
      "        1    0.000    0.000    0.000    0.000 <ipython-input-4-b1abdc2d4774>:4(<listcomp>)\n",
      "        9    0.000    0.000    0.000    0.000 <ipython-input-7-2d3697bbe560>:59(check_col)\n",
      "        9    0.000    0.000    0.000    0.000 <ipython-input-7-2d3697bbe560>:61(<listcomp>)\n",
      "        9    0.000    0.000    0.000    0.000 <ipython-input-7-2d3697bbe560>:53(check_line)\n",
      "        9    0.000    0.000    0.000    0.000 <ipython-input-7-2d3697bbe560>:62(<listcomp>)\n",
      "       81    0.000    0.000    0.000    0.000 {method 'append' of 'list' objects}\n",
      "        1    0.000    0.000    0.000    0.000 {built-in method numpy.core.multiarray.empty}\n",
      "        1    0.000    0.000    0.000    0.000 <ipython-input-4-b1abdc2d4774>:1(all_moves)\n",
      "        1    0.000    0.000    0.000    0.000 {method 'disable' of '_lsprof.Profiler' objects}\n",
      "\n",
      "\n"
     ]
    }
   ],
   "source": [
    "import cProfile\n",
    "cProfile.run(\"sudoku_starter(null_sudoku)\", sort='tottime')"
   ]
  },
  {
   "cell_type": "code",
   "execution_count": 11,
   "metadata": {
    "collapsed": true
   },
   "outputs": [],
   "source": [
    "def next_branch(branch,move,q,r):\n",
    "    # invertendo a ordem dos galhos\n",
    "    'returns the next branch to try (right to left)'\n",
    "    if move == 0:\n",
    "        #print(move,q,r,'wut')\n",
    "        return -1 # error code\n",
    "    j = branch.count([q,r])\n",
    "    if j >= len(move):\n",
    "        return 0\n",
    "    return [move[-j-1]]  # starts from the *right* of the list"
   ]
  },
  {
   "cell_type": "code",
   "execution_count": 12,
   "metadata": {},
   "outputs": [
    {
     "data": {
      "text/plain": [
       "array([[9, 8, 7, 6, 5, 4, 3, 2, 1],\n",
       "       [6, 5, 4, 3, 2, 1, 9, 8, 7],\n",
       "       [3, 2, 1, 9, 8, 7, 6, 5, 4],\n",
       "       [8, 7, 9, 4, 3, 6, 2, 1, 5],\n",
       "       [2, 3, 5, 1, 9, 8, 7, 4, 6],\n",
       "       [4, 1, 6, 5, 7, 2, 8, 9, 3],\n",
       "       [7, 9, 3, 8, 4, 5, 1, 6, 2],\n",
       "       [5, 6, 8, 2, 1, 3, 4, 7, 9],\n",
       "       [1, 4, 2, 7, 6, 9, 5, 3, 8]])"
      ]
     },
     "execution_count": 12,
     "metadata": {},
     "output_type": "execute_result"
    }
   ],
   "source": [
    "sudoku_starter(null_sudoku)"
   ]
  },
  {
   "cell_type": "code",
   "execution_count": 13,
   "metadata": {},
   "outputs": [
    {
     "name": "stdout",
     "output_type": "stream",
     "text": [
      "         7764 function calls in 0.008 seconds\n",
      "\n",
      "   Ordered by: internal time\n",
      "\n",
      "   ncalls  tottime  percall  cumtime  percall filename:lineno(function)\n",
      "      325    0.001    0.000    0.001    0.000 {built-in method builtins.sum}\n",
      "       81    0.001    0.000    0.001    0.000 <ipython-input-7-2d3697bbe560>:51(<listcomp>)\n",
      "       82    0.001    0.000    0.003    0.000 <ipython-input-7-2d3697bbe560>:1(next_move)\n",
      "       81    0.001    0.000    0.001    0.000 <ipython-input-7-2d3697bbe560>:30(refresh_guess_list)\n",
      "      333    0.001    0.000    0.001    0.000 {method 'count' of 'list' objects}\n",
      "        1    0.000    0.000    0.006    0.006 <ipython-input-8-bd12c0f97d08>:35(sudoku_solver)\n",
      "        1    0.000    0.000    0.008    0.008 <string>:1(<module>)\n",
      "     5856    0.000    0.000    0.000    0.000 {built-in method builtins.len}\n",
      "       81    0.000    0.000    0.000    0.000 {method 'copy' of 'numpy.ndarray' objects}\n",
      "        1    0.000    0.000    0.001    0.001 <ipython-input-7-2d3697bbe560>:80(check_singles)\n",
      "      544    0.000    0.000    0.000    0.000 {method 'remove' of 'list' objects}\n",
      "       81    0.000    0.000    0.000    0.000 <ipython-input-11-553279703174>:1(next_branch)\n",
      "       81    0.000    0.000    0.002    0.000 <ipython-input-7-2d3697bbe560>:50(copy_GL)\n",
      "        1    0.000    0.000    0.000    0.000 <ipython-input-4-b1abdc2d4774>:7(available_moves)\n",
      "        1    0.000    0.000    0.000    0.000 <ipython-input-1-3073e6522be4>:4(num_moves)\n",
      "        1    0.000    0.000    0.007    0.007 <ipython-input-8-bd12c0f97d08>:7(sudoku_starter)\n",
      "        9    0.000    0.000    0.000    0.000 <ipython-input-7-2d3697bbe560>:66(check_box)\n",
      "        1    0.000    0.000    0.008    0.008 {built-in method builtins.exec}\n",
      "       82    0.000    0.000    0.000    0.000 {built-in method builtins.divmod}\n",
      "        1    0.000    0.000    0.000    0.000 <ipython-input-4-b1abdc2d4774>:4(<listcomp>)\n",
      "        9    0.000    0.000    0.000    0.000 <ipython-input-7-2d3697bbe560>:59(check_col)\n",
      "        9    0.000    0.000    0.000    0.000 <ipython-input-7-2d3697bbe560>:61(<listcomp>)\n",
      "        9    0.000    0.000    0.000    0.000 <ipython-input-7-2d3697bbe560>:53(check_line)\n",
      "        9    0.000    0.000    0.000    0.000 <ipython-input-7-2d3697bbe560>:62(<listcomp>)\n",
      "       81    0.000    0.000    0.000    0.000 {method 'append' of 'list' objects}\n",
      "        1    0.000    0.000    0.000    0.000 {built-in method numpy.core.multiarray.empty}\n",
      "        1    0.000    0.000    0.000    0.000 <ipython-input-4-b1abdc2d4774>:1(all_moves)\n",
      "        1    0.000    0.000    0.000    0.000 {method 'disable' of '_lsprof.Profiler' objects}\n",
      "\n",
      "\n"
     ]
    }
   ],
   "source": [
    "import cProfile\n",
    "cProfile.run(\"sudoku_starter(null_sudoku)\", sort='tottime')"
   ]
  },
  {
   "cell_type": "code",
   "execution_count": 14,
   "metadata": {
    "collapsed": true
   },
   "outputs": [],
   "source": [
    "normal_sudoku  =      [[8,0,0,0,0,0,0,0,0],\n",
    "                       [0,0,3,6,0,0,0,0,0],\n",
    "                       [0,7,0,0,9,0,2,0,0],\n",
    "                       [0,5,0,0,0,7,0,0,0],\n",
    "                       [0,0,0,0,4,5,7,0,0],\n",
    "                       [0,0,0,1,0,0,0,3,0],\n",
    "                       [0,0,1,0,0,0,0,6,8],\n",
    "                       [0,0,8,5,0,0,0,1,0],\n",
    "                       [0,9,0,0,0,0,4,0,0]]\n",
    "\n",
    "normal_sol =          [[8,1,2,7,5,3,6,4,9],\n",
    "                       [9,4,3,6,8,2,1,7,5],\n",
    "                       [6,7,5,4,9,1,2,8,3],\n",
    "                       [1,5,4,2,3,7,8,9,6],\n",
    "                       [3,6,9,8,4,5,7,2,1],\n",
    "                       [2,8,7,1,6,9,5,3,4],\n",
    "                       [5,2,1,9,7,4,3,6,8],\n",
    "                       [4,3,8,5,2,6,9,1,7],\n",
    "                       [7,9,6,3,1,8,4,5,2]]"
   ]
  },
  {
   "cell_type": "code",
   "execution_count": 15,
   "metadata": {},
   "outputs": [
    {
     "name": "stdout",
     "output_type": "stream",
     "text": [
      "Wall time: 26.7 s\n"
     ]
    },
    {
     "data": {
      "text/plain": [
       "array([[8, 1, 2, 7, 5, 3, 6, 4, 9],\n",
       "       [9, 4, 3, 6, 8, 2, 1, 7, 5],\n",
       "       [6, 7, 5, 4, 9, 1, 2, 8, 3],\n",
       "       [1, 5, 4, 2, 3, 7, 8, 9, 6],\n",
       "       [3, 6, 9, 8, 4, 5, 7, 2, 1],\n",
       "       [2, 8, 7, 1, 6, 9, 5, 3, 4],\n",
       "       [5, 2, 1, 9, 7, 4, 3, 6, 8],\n",
       "       [4, 3, 8, 5, 2, 6, 9, 1, 7],\n",
       "       [7, 9, 6, 3, 1, 8, 4, 5, 2]])"
      ]
     },
     "execution_count": 15,
     "metadata": {},
     "output_type": "execute_result"
    }
   ],
   "source": [
    "%time sudoku_starter(normal_sudoku)"
   ]
  },
  {
   "cell_type": "code",
   "execution_count": 16,
   "metadata": {
    "collapsed": true
   },
   "outputs": [],
   "source": [
    "ans = [[8, 1, 2, 7, 5, 3, 6, 4, 9],\n",
    "       [9, 4, 3, 6, 8, 2, 1, 7, 5],\n",
    "       [6, 7, 5, 4, 9, 1, 2, 8, 3],\n",
    "       [1, 5, 4, 2, 3, 7, 8, 9, 6],\n",
    "       [3, 6, 9, 8, 4, 5, 7, 2, 1],\n",
    "       [2, 8, 7, 1, 6, 9, 5, 3, 4],\n",
    "       [5, 2, 1, 9, 7, 4, 3, 6, 8],\n",
    "       [4, 3, 8, 5, 2, 6, 9, 1, 7],\n",
    "       [7, 9, 6, 3, 1, 8, 4, 5, 2]]"
   ]
  },
  {
   "cell_type": "code",
   "execution_count": 17,
   "metadata": {
    "collapsed": true
   },
   "outputs": [],
   "source": [
    "def next_branch(branch,move,q,r):\n",
    "    # voltando para a ordem normal\n",
    "    'returns the next branch to try (left to right)'\n",
    "    if move == 0:\n",
    "        #print(move,q,r,'wut')\n",
    "        return -1 # error code\n",
    "    j = branch.count([q,r])\n",
    "    if j >= len(move):\n",
    "        return 0\n",
    "    return [move[j]]  # starts from the *left* of the list"
   ]
  },
  {
   "cell_type": "code",
   "execution_count": 18,
   "metadata": {},
   "outputs": [
    {
     "name": "stdout",
     "output_type": "stream",
     "text": [
      "Wall time: 22.5 s\n"
     ]
    },
    {
     "data": {
      "text/plain": [
       "array([[8, 1, 2, 7, 5, 3, 6, 4, 9],\n",
       "       [9, 4, 3, 6, 8, 2, 1, 7, 5],\n",
       "       [6, 7, 5, 4, 9, 1, 2, 8, 3],\n",
       "       [1, 5, 4, 2, 3, 7, 8, 9, 6],\n",
       "       [3, 6, 9, 8, 4, 5, 7, 2, 1],\n",
       "       [2, 8, 7, 1, 6, 9, 5, 3, 4],\n",
       "       [5, 2, 1, 9, 7, 4, 3, 6, 8],\n",
       "       [4, 3, 8, 5, 2, 6, 9, 1, 7],\n",
       "       [7, 9, 6, 3, 1, 8, 4, 5, 2]])"
      ]
     },
     "execution_count": 18,
     "metadata": {},
     "output_type": "execute_result"
    }
   ],
   "source": [
    "%time sudoku_starter(normal_sudoku)"
   ]
  },
  {
   "cell_type": "code",
   "execution_count": 19,
   "metadata": {
    "collapsed": true
   },
   "outputs": [],
   "source": [
    "ans2 = [[8, 1, 2, 7, 5, 3, 6, 4, 9],\n",
    "       [9, 4, 3, 6, 8, 2, 1, 7, 5],\n",
    "       [6, 7, 5, 4, 9, 1, 2, 8, 3],\n",
    "       [1, 5, 4, 2, 3, 7, 8, 9, 6],\n",
    "       [3, 6, 9, 8, 4, 5, 7, 2, 1],\n",
    "       [2, 8, 7, 1, 6, 9, 5, 3, 4],\n",
    "       [5, 2, 1, 9, 7, 4, 3, 6, 8],\n",
    "       [4, 3, 8, 5, 2, 6, 9, 1, 7],\n",
    "       [7, 9, 6, 3, 1, 8, 4, 5, 2]]"
   ]
  },
  {
   "cell_type": "code",
   "execution_count": 20,
   "metadata": {},
   "outputs": [],
   "source": [
    "assert(ans == ans2)"
   ]
  }
 ],
 "metadata": {
  "kernelspec": {
   "display_name": "Python 3",
   "language": "python",
   "name": "python3"
  },
  "language_info": {
   "codemirror_mode": {
    "name": "ipython",
    "version": 3
   },
   "file_extension": ".py",
   "mimetype": "text/x-python",
   "name": "python",
   "nbconvert_exporter": "python",
   "pygments_lexer": "ipython3",
   "version": "3.8.10"
  }
 },
 "nbformat": 4,
 "nbformat_minor": 1
}
