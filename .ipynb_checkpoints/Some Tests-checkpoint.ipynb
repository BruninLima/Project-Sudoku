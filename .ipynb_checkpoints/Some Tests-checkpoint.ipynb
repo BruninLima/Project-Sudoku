{
 "cells": [
  {
   "cell_type": "code",
   "execution_count": 1,
   "metadata": {},
   "outputs": [],
   "source": [
    "import sudoku\n",
    "import numpy as np\n",
    "import functools"
   ]
  },
  {
   "cell_type": "markdown",
   "metadata": {},
   "source": [
    "## List of Lists to save the indexes of non-zero values in sudoku boards\n",
    "## MIght be lighter on memory\n",
    "## SHould be faster also{\n"
   ]
  },
  {
   "cell_type": "code",
   "execution_count": 2,
   "metadata": {},
   "outputs": [],
   "source": [
    "normal_sudoku  =      [[8,0,0,0,0,0,0,0,0],\n",
    "                       [0,0,3,6,0,0,0,0,0],\n",
    "                       [0,7,0,0,9,0,2,0,0],\n",
    "                       [0,5,0,0,0,7,0,0,0],\n",
    "                       [0,0,0,0,4,5,7,0,0],\n",
    "                       [0,0,0,1,0,0,0,3,0],\n",
    "                       [0,0,1,0,0,0,0,6,8],\n",
    "                       [0,0,8,5,0,0,0,1,0],\n",
    "                       [0,9,0,0,0,0,4,0,0]]"
   ]
  },
  {
   "cell_type": "code",
   "execution_count": 3,
   "metadata": {},
   "outputs": [],
   "source": [
    "a = sudoku.Sudoku(normal_sudoku, kind = \"adj_list\")"
   ]
  },
  {
   "cell_type": "code",
   "execution_count": 4,
   "metadata": {},
   "outputs": [
    {
     "data": {
      "text/plain": [
       "{48, 56, 70}"
      ]
     },
     "execution_count": 4,
     "metadata": {},
     "output_type": "execute_result"
    }
   ],
   "source": [
    "a.board[1]"
   ]
  },
  {
   "cell_type": "code",
   "execution_count": 5,
   "metadata": {},
   "outputs": [
    {
     "data": {
      "text/plain": [
       "{0, 1, 2, 3, 4, 5, 6, 7, 8, 9, 10, 11, 18, 19, 20, 27, 36, 45, 54, 63, 72}"
      ]
     },
     "execution_count": 5,
     "metadata": {},
     "output_type": "execute_result"
    }
   ],
   "source": [
    "a.blocked_dict[0]"
   ]
  },
  {
   "cell_type": "code",
   "execution_count": 6,
   "metadata": {},
   "outputs": [
    {
     "data": {
      "text/plain": [
       "{69: {3, 9},\n",
       " 10: {1, 2, 4},\n",
       " 20: {4, 5, 6},\n",
       " 21: {3, 4, 8},\n",
       " 25: {4, 5, 8},\n",
       " 38: {2, 6, 9},\n",
       " 43: {2, 8, 9},\n",
       " 49: {2, 6, 8},\n",
       " 55: {2, 3, 4},\n",
       " 58: {2, 3, 7},\n",
       " 60: {3, 5, 9},\n",
       " 79: {2, 5, 7},\n",
       " 1: {1, 2, 4, 6},\n",
       " 3: {2, 3, 4, 7},\n",
       " 5: {1, 2, 3, 4},\n",
       " 7: {4, 5, 7, 9},\n",
       " 14: {1, 2, 4, 8},\n",
       " 15: {1, 5, 8, 9},\n",
       " 18: {1, 4, 5, 6},\n",
       " 23: {1, 3, 4, 8},\n",
       " 29: {2, 4, 6, 9},\n",
       " 30: {2, 3, 8, 9},\n",
       " 31: {2, 3, 6, 8},\n",
       " 33: {1, 6, 8, 9},\n",
       " 34: {2, 4, 8, 9},\n",
       " 39: {2, 3, 8, 9},\n",
       " 44: {1, 2, 6, 9},\n",
       " 46: {2, 4, 6, 8},\n",
       " 50: {2, 6, 8, 9},\n",
       " 51: {5, 6, 8, 9},\n",
       " 59: {2, 3, 4, 9},\n",
       " 64: {2, 3, 4, 6},\n",
       " 67: {2, 3, 6, 7},\n",
       " 71: {2, 3, 7, 9},\n",
       " 74: {2, 5, 6, 7},\n",
       " 75: {2, 3, 7, 8},\n",
       " 80: {2, 3, 5, 7},\n",
       " 2: {2, 4, 5, 6, 9},\n",
       " 4: {1, 2, 3, 5, 7},\n",
       " 6: {1, 3, 5, 6, 9},\n",
       " 9: {1, 2, 4, 5, 9},\n",
       " 13: {1, 2, 5, 7, 8},\n",
       " 16: {4, 5, 7, 8, 9},\n",
       " 17: {1, 4, 5, 7, 9},\n",
       " 26: {1, 3, 4, 5, 6},\n",
       " 35: {1, 2, 4, 6, 9},\n",
       " 36: {1, 2, 3, 6, 9},\n",
       " 37: {1, 2, 3, 6, 8},\n",
       " 45: {2, 4, 6, 7, 9},\n",
       " 47: {2, 4, 6, 7, 9},\n",
       " 53: {2, 4, 5, 6, 9},\n",
       " 54: {2, 3, 4, 5, 7},\n",
       " 57: {2, 3, 4, 7, 9},\n",
       " 63: {2, 3, 4, 6, 7},\n",
       " 68: {2, 3, 4, 6, 9},\n",
       " 72: {2, 3, 5, 6, 7},\n",
       " 77: {1, 2, 3, 6, 8},\n",
       " 27: {1, 2, 3, 4, 6, 9},\n",
       " 76: {1, 2, 3, 6, 7, 8},\n",
       " 8: {1, 3, 4, 5, 6, 7, 9}}"
      ]
     },
     "execution_count": 6,
     "metadata": {},
     "output_type": "execute_result"
    }
   ],
   "source": [
    "a.avail_moves"
   ]
  },
  {
   "cell_type": "markdown",
   "metadata": {},
   "source": [
    "# Sudoku.next_move can return a couple different things:\n",
    "\n",
    "# While there are single moves it calls sudoku.make_move(singlemove)\n",
    "\n",
    "# If there are no possible moves:\n",
    "# Return: No possible moves\n",
    "# If there are no single moves:\n",
    "# Return: list of guesses with minimum lenght"
   ]
  },
  {
   "cell_type": "code",
   "execution_count": 9,
   "metadata": {},
   "outputs": [
    {
     "name": "stdout",
     "output_type": "stream",
     "text": [
      " There are no obvious moves, we need to start guessing...\n"
     ]
    },
    {
     "data": {
      "text/plain": [
       "[[69, {3, 9}], [21, {4, 8}]]"
      ]
     },
     "execution_count": 9,
     "metadata": {},
     "output_type": "execute_result"
    }
   ],
   "source": [
    "a.next_move()"
   ]
  },
  {
   "cell_type": "code",
   "execution_count": 8,
   "metadata": {},
   "outputs": [],
   "source": [
    "a.make_move(21, 3)"
   ]
  },
  {
   "cell_type": "code",
   "execution_count": 12,
   "metadata": {},
   "outputs": [
    {
     "data": {
      "text/plain": [
       "array([[8., 0., 0., 0., 0., 0., 0., 0., 0.],\n",
       "       [0., 0., 3., 6., 0., 0., 0., 0., 0.],\n",
       "       [0., 7., 0., 3., 9., 0., 2., 0., 0.],\n",
       "       [0., 5., 0., 0., 0., 7., 0., 0., 0.],\n",
       "       [0., 0., 0., 0., 4., 5., 7., 0., 0.],\n",
       "       [0., 0., 0., 1., 0., 0., 0., 3., 0.],\n",
       "       [0., 0., 1., 0., 0., 0., 0., 6., 8.],\n",
       "       [0., 0., 8., 5., 0., 0., 0., 1., 0.],\n",
       "       [0., 9., 0., 0., 0., 0., 4., 0., 0.]])"
      ]
     },
     "execution_count": 12,
     "metadata": {},
     "output_type": "execute_result"
    }
   ],
   "source": [
    "a.set_visual_board()"
   ]
  },
  {
   "cell_type": "code",
   "execution_count": 7,
   "metadata": {},
   "outputs": [
    {
     "name": "stdout",
     "output_type": "stream",
     "text": [
      " There are no obvious moves, we need to start guessing...\n"
     ]
    }
   ],
   "source": [
    "a.next_move()"
   ]
  },
  {
   "cell_type": "code",
   "execution_count": 8,
   "metadata": {},
   "outputs": [
    {
     "data": {
      "text/plain": [
       "{69: {3, 9},\n",
       " 21: {4, 8},\n",
       " 10: {1, 2, 4},\n",
       " 20: {4, 5, 6},\n",
       " 25: {4, 5, 8},\n",
       " 38: {2, 6, 9},\n",
       " 43: {2, 8, 9},\n",
       " 49: {2, 6, 8},\n",
       " 55: {2, 3, 4},\n",
       " 58: {2, 3, 7},\n",
       " 60: {3, 5, 9},\n",
       " 79: {2, 5, 7},\n",
       " 3: {2, 4, 7},\n",
       " 5: {1, 2, 4},\n",
       " 23: {1, 4, 8},\n",
       " 30: {2, 8, 9},\n",
       " 39: {2, 8, 9},\n",
       " 75: {2, 7, 8},\n",
       " 1: {1, 2, 4, 6},\n",
       " 7: {4, 5, 7, 9},\n",
       " 14: {1, 2, 4, 8},\n",
       " 15: {1, 5, 8, 9},\n",
       " 18: {1, 4, 5, 6},\n",
       " 29: {2, 4, 6, 9},\n",
       " 31: {2, 3, 6, 8},\n",
       " 33: {1, 6, 8, 9},\n",
       " 34: {2, 4, 8, 9},\n",
       " 44: {1, 2, 6, 9},\n",
       " 46: {2, 4, 6, 8},\n",
       " 50: {2, 6, 8, 9},\n",
       " 51: {5, 6, 8, 9},\n",
       " 59: {2, 3, 4, 9},\n",
       " 64: {2, 3, 4, 6},\n",
       " 67: {2, 3, 6, 7},\n",
       " 71: {2, 3, 7, 9},\n",
       " 74: {2, 5, 6, 7},\n",
       " 80: {2, 3, 5, 7},\n",
       " 4: {1, 2, 5, 7},\n",
       " 26: {1, 4, 5, 6},\n",
       " 57: {2, 4, 7, 9},\n",
       " 2: {2, 4, 5, 6, 9},\n",
       " 6: {1, 3, 5, 6, 9},\n",
       " 9: {1, 2, 4, 5, 9},\n",
       " 13: {1, 2, 5, 7, 8},\n",
       " 16: {4, 5, 7, 8, 9},\n",
       " 17: {1, 4, 5, 7, 9},\n",
       " 35: {1, 2, 4, 6, 9},\n",
       " 36: {1, 2, 3, 6, 9},\n",
       " 37: {1, 2, 3, 6, 8},\n",
       " 45: {2, 4, 6, 7, 9},\n",
       " 47: {2, 4, 6, 7, 9},\n",
       " 53: {2, 4, 5, 6, 9},\n",
       " 54: {2, 3, 4, 5, 7},\n",
       " 63: {2, 3, 4, 6, 7},\n",
       " 68: {2, 3, 4, 6, 9},\n",
       " 72: {2, 3, 5, 6, 7},\n",
       " 77: {1, 2, 3, 6, 8},\n",
       " 27: {1, 2, 3, 4, 6, 9},\n",
       " 76: {1, 2, 3, 6, 7, 8},\n",
       " 8: {1, 3, 4, 5, 6, 7, 9}}"
      ]
     },
     "execution_count": 8,
     "metadata": {},
     "output_type": "execute_result"
    }
   ],
   "source": [
    "a.avail_moves"
   ]
  },
  {
   "cell_type": "code",
   "execution_count": null,
   "metadata": {},
   "outputs": [],
   "source": [
    "%%timeit\n",
    "for x,row in enumerate(normal_sudoku):\n",
    "    for y,num in enumerate(row):\n",
    "        aoa[num]"
   ]
  },
  {
   "cell_type": "code",
   "execution_count": null,
   "metadata": {},
   "outputs": [],
   "source": [
    "%%timeit\n",
    "for x,row in enumerate(normal_sudoku):\n",
    "    for y,num in enumerate(row):\n",
    "        testboard[num][x][y] = True"
   ]
  },
  {
   "cell_type": "code",
   "execution_count": null,
   "metadata": {},
   "outputs": [],
   "source": [
    "tzero = testboard[0]"
   ]
  },
  {
   "cell_type": "code",
   "execution_count": null,
   "metadata": {},
   "outputs": [],
   "source": [
    "testboard"
   ]
  },
  {
   "cell_type": "code",
   "execution_count": null,
   "metadata": {},
   "outputs": [],
   "source": [
    "def available_moves(sudoku):\n",
    "    'returns the available guess_list of every square'\n",
    "\n",
    "    guess_list = all_moves()\n",
    " \n",
    "    for i in range(9):\n",
    "        for j in range(9):\n",
    "            if (not (sudoku[i][j])) == False:\n",
    "                numago = sudoku[i][j]\n",
    "                guess_list[(9*i + j)] = []\n",
    "                \n",
    "                for k in range(9):\n",
    "                    if numago in guess_list[9*i +k]:\n",
    "                        guess_list[(9*i + k)].remove(numago)  #remove da linha\n",
    "                    if numago in guess_list[(9*k + j)]:\n",
    "                        guess_list[(9*k + j)].remove(numago)  #remove da coluna\n",
    "                        \n",
    "                a,b = (i//3)*3,(j//3)*3\n",
    "                \n",
    "                for m in range(a,a+3):\n",
    "                    for n in range(b,b+3):\n",
    "                        if numago in guess_list[9*m+n]:\n",
    "                            guess_list[(9*m+n)].remove(numago)\n",
    "    return guess_list\n"
   ]
  },
  {
   "cell_type": "code",
   "execution_count": null,
   "metadata": {},
   "outputs": [],
   "source": []
  }
 ],
 "metadata": {
  "kernelspec": {
   "display_name": "Python 3",
   "language": "python",
   "name": "python3"
  },
  "language_info": {
   "codemirror_mode": {
    "name": "ipython",
    "version": 3
   },
   "file_extension": ".py",
   "mimetype": "text/x-python",
   "name": "python",
   "nbconvert_exporter": "python",
   "pygments_lexer": "ipython3",
   "version": "3.8.10"
  }
 },
 "nbformat": 4,
 "nbformat_minor": 4
}
